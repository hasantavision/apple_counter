{
  "nbformat": 4,
  "nbformat_minor": 0,
  "metadata": {
    "colab": {
      "provenance": [],
      "gpuType": "T4"
    },
    "kernelspec": {
      "name": "python3",
      "display_name": "Python 3"
    },
    "language_info": {
      "name": "python"
    },
    "accelerator": "GPU"
  },
  "cells": [
    {
      "cell_type": "markdown",
      "source": [
        "# Install Detectron2"
      ],
      "metadata": {
        "id": "AC0UTgPdZriz"
      }
    },
    {
      "cell_type": "markdown",
      "source": [
        "**Make sure you have pytorch with CUDA support**"
      ],
      "metadata": {
        "id": "t97C6g6RZv3X"
      }
    },
    {
      "cell_type": "code",
      "execution_count": null,
      "metadata": {
        "id": "zuegdMMldPUP"
      },
      "outputs": [],
      "source": [
        "# install pyyaml==5.1 to prevent dependency issue\n",
        "!python -m pip install pyyaml==5.1\n",
        "!pip install -U gdown\n",
        "# install detectron2\n",
        "!python -m pip install 'git+https://github.com/facebookresearch/detectron2.git'"
      ]
    },
    {
      "cell_type": "markdown",
      "source": [
        "**Check detectron2 installation**"
      ],
      "metadata": {
        "id": "mO4l87q8Z2uu"
      }
    },
    {
      "cell_type": "code",
      "source": [
        "import torch, detectron2\n",
        "!nvcc --version\n",
        "TORCH_VERSION = \".\".join(torch.__version__.split(\".\")[:2])\n",
        "CUDA_VERSION = torch.__version__.split(\"+\")[-1]\n",
        "print(\"torch: \", TORCH_VERSION, \"; cuda: \", CUDA_VERSION)\n",
        "print(\"detectron2:\", detectron2.__version__)"
      ],
      "metadata": {
        "id": "v6BRnhH8ddM6"
      },
      "execution_count": null,
      "outputs": []
    },
    {
      "cell_type": "markdown",
      "source": [
        "# Load Trained Model and Perform Inference"
      ],
      "metadata": {
        "id": "L3IitNQjZ7R9"
      }
    },
    {
      "cell_type": "code",
      "source": [
        "import numpy as np\n",
        "import os, json, cv2, random\n",
        "from google.colab.patches import cv2_imshow\n",
        "\n",
        "from detectron2 import model_zoo\n",
        "from detectron2.engine import DefaultPredictor\n",
        "from detectron2.config import get_cfg\n",
        "from detectron2.utils.visualizer import Visualizer\n",
        "from detectron2.data import MetadataCatalog, DatasetCatalog"
      ],
      "metadata": {
        "id": "TvsMkqi1djOI"
      },
      "execution_count": 3,
      "outputs": []
    },
    {
      "cell_type": "code",
      "source": [
        "!gdown https://drive.google.com/uc?id=1tYTusIvB0QQn2ZlbcZLeTdym4gB5FD5k\n",
        "!gdown https://drive.google.com/uc?id=1n00pi5KItkbqgFDsY2gOVAjGpCphpqBi\n",
        "!gdown https://drive.google.com/uc?id=1SiuRUpvjUbwV4G_9YzBfxPuVOMW_Q0y-\n",
        "!gdown https://drive.google.com/uc?id=1yThjIq-VChU-rH2L3mZkbmJsEE1fvIGA\n",
        "\n",
        "!unzip data.zip"
      ],
      "metadata": {
        "id": "NcJ7FmRVf8-H"
      },
      "execution_count": null,
      "outputs": []
    },
    {
      "cell_type": "code",
      "source": [
        "im = cv2.imread('/content/kkk.jpeg')"
      ],
      "metadata": {
        "id": "8q9BqNG-dzTv"
      },
      "execution_count": 22,
      "outputs": []
    },
    {
      "cell_type": "code",
      "source": [
        "cfg = get_cfg()\n",
        "cfg.merge_from_file(\"/content/apples_TRAIN_3_fpn50.yaml\")\n",
        "cfg.MODEL.WEIGHTS = \"/content/model_final.pth\"\n",
        "cfg.MODEL.ROI_HEADS.SCORE_THRESH_TEST = 0.5\n",
        "\n",
        "predictor = DefaultPredictor(cfg)"
      ],
      "metadata": {
        "id": "ECrupr3ReCze"
      },
      "execution_count": 19,
      "outputs": []
    },
    {
      "cell_type": "code",
      "source": [
        "outputs = predictor(im)"
      ],
      "metadata": {
        "id": "BLMJLmlPglZB"
      },
      "execution_count": 23,
      "outputs": []
    },
    {
      "cell_type": "markdown",
      "source": [],
      "metadata": {
        "id": "dAROGh8aaFuc"
      }
    },
    {
      "cell_type": "markdown",
      "source": [
        "# Train Random Forest Classifier to Classify Apples' Color"
      ],
      "metadata": {
        "id": "TOUiocauaNQt"
      }
    },
    {
      "cell_type": "code",
      "source": [
        "from sklearn.ensemble import RandomForestClassifier\n",
        "\n",
        "image_dir = \"/content/data\"\n",
        "labels = []\n",
        "# Get the list of all files in the directory\n",
        "all_files = os.listdir(image_dir)\n",
        "\n",
        "image_paths = [os.path.join(image_dir, file_name) for file_name in all_files if file_name.endswith('.jpg')]\n",
        "labels = [file_name.split('_')[0] for file_name in all_files if file_name.endswith('.jpg')]\n",
        "# Load images and calculate color histograms\n",
        "histograms = []\n",
        "for image_path in image_paths:\n",
        "    image = cv2.imread(image_path)\n",
        "\n",
        "    histogram = cv2.calcHist([image], [0, 1, 2], None, [8, 8, 8], [0, 256, 0, 256, 0, 256])\n",
        "    histogram = cv2.normalize(histogram, histogram).flatten()\n",
        "\n",
        "    histograms.append(histogram)\n",
        "\n",
        "X = np.array(histograms)\n",
        "y = np.array(labels)\n",
        "\n",
        "rf_model = RandomForestClassifier()\n",
        "rf_model.fit(X, y)\n"
      ],
      "metadata": {
        "id": "-2zUfD1aOVOx"
      },
      "execution_count": null,
      "outputs": []
    },
    {
      "cell_type": "markdown",
      "source": [
        "**Check all apple instances' color using random forest and save the images**"
      ],
      "metadata": {
        "id": "bURyBMz6ZqKP"
      }
    },
    {
      "cell_type": "code",
      "source": [
        "from sklearn.ensemble import RandomForestClassifier\n",
        "\n",
        "instances = outputs[\"instances\"].to(\"cpu\")\n",
        "\n",
        "out_dir = '/content/output'\n",
        "os.makedirs(out_dir, exist_ok=True)\n",
        "\n",
        "counter = {\n",
        "    'red': 0,\n",
        "    'green': 0,\n",
        "    'yellow': 0\n",
        "    }\n",
        "\n",
        "# Loop over each instance\n",
        "for i, pred_mask in enumerate(instances.pred_masks):\n",
        "\n",
        "    mask = pred_mask.numpy().astype(bool)\n",
        "\n",
        "    segmented_image = im.copy()\n",
        "    segmented_image[~mask] = 0\n",
        "\n",
        "    ys, xs = np.where(mask)\n",
        "    x_min, x_max = xs.min(), xs.max()\n",
        "    y_min, y_max = ys.min(), ys.max()\n",
        "\n",
        "    cropped_image = segmented_image[y_min:y_max, x_min:x_max]\n",
        "\n",
        "    test_histogram = cv2.calcHist([cropped_image], [0, 1, 2], None, [8, 8, 8], [0, 256, 0, 256, 0, 256])\n",
        "    test_histogram = cv2.normalize(test_histogram, test_histogram).flatten()\n",
        "\n",
        "    test_histogram = test_histogram.reshape(1, -1)\n",
        "    color = rf_model.predict(test_histogram)[0]\n",
        "    counter[color] += 1\n",
        "\n",
        "    cv2.imwrite(os.path.join(out_dir, f\"{color}_{counter[color]}.jpg\"), cropped_image)"
      ],
      "metadata": {
        "id": "v3iY-ldngo3a"
      },
      "execution_count": 29,
      "outputs": []
    }
  ]
}