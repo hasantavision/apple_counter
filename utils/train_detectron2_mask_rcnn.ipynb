{
  "nbformat": 4,
  "nbformat_minor": 0,
  "metadata": {
    "colab": {
      "provenance": [],
      "gpuType": "T4"
    },
    "kernelspec": {
      "name": "python3",
      "display_name": "Python 3"
    },
    "language_info": {
      "name": "python"
    },
    "accelerator": "GPU"
  },
  "cells": [
    {
      "cell_type": "markdown",
      "source": [
        "# Install Detectron2"
      ],
      "metadata": {
        "id": "JB_MSaUETt5b"
      }
    },
    {
      "cell_type": "markdown",
      "source": [
        "**Make Sure you run this notebook on GPU**"
      ],
      "metadata": {
        "id": "OPBg9fiRZy3T"
      }
    },
    {
      "cell_type": "code",
      "execution_count": null,
      "metadata": {
        "id": "lAdyWnk6TZyr"
      },
      "outputs": [],
      "source": [
        "# install pyyaml==5.1 to prevent dependency issue\n",
        "!python -m pip install pyyaml==5.1\n",
        "\n",
        "# install detectron2\n",
        "!python -m pip install 'git+https://github.com/facebookresearch/detectron2.git'"
      ]
    },
    {
      "cell_type": "markdown",
      "source": [
        "**Check installation**"
      ],
      "metadata": {
        "id": "XQ66R7PLT4in"
      }
    },
    {
      "cell_type": "code",
      "source": [
        "import torch, detectron2\n",
        "!nvcc --version\n",
        "TORCH_VERSION = \".\".join(torch.__version__.split(\".\")[:2])\n",
        "CUDA_VERSION = torch.__version__.split(\"+\")[-1]\n",
        "print(\"torch: \", TORCH_VERSION, \"; cuda: \", CUDA_VERSION)\n",
        "print(\"detectron2:\", detectron2.__version__)"
      ],
      "metadata": {
        "colab": {
          "base_uri": "https://localhost:8080/"
        },
        "id": "uvcBrmASTs8o",
        "outputId": "7d0b3d3b-d8d7-4484-c5dd-a3af0bdf8e7c"
      },
      "execution_count": 2,
      "outputs": [
        {
          "output_type": "stream",
          "name": "stdout",
          "text": [
            "nvcc: NVIDIA (R) Cuda compiler driver\n",
            "Copyright (c) 2005-2022 NVIDIA Corporation\n",
            "Built on Wed_Sep_21_10:33:58_PDT_2022\n",
            "Cuda compilation tools, release 11.8, V11.8.89\n",
            "Build cuda_11.8.r11.8/compiler.31833905_0\n",
            "torch:  2.0 ; cuda:  cu118\n",
            "detectron2: 0.6\n"
          ]
        }
      ]
    },
    {
      "cell_type": "markdown",
      "source": [
        "# Get Dataset"
      ],
      "metadata": {
        "id": "gO2U32VdUIWY"
      }
    },
    {
      "cell_type": "markdown",
      "source": [
        "I got the original data from here https://universe.roboflow.com/dissertation-bqltf/apple-detection-leqnn/dataset/2\n",
        "\n",
        "I re-annotated the images using pre-trained mask-rcnn models and use the new annotated images for this training"
      ],
      "metadata": {
        "id": "UHr0XICiVcNH"
      }
    },
    {
      "cell_type": "markdown",
      "source": [
        "**Install latest gdown library**"
      ],
      "metadata": {
        "id": "jW-2ctjwUXP6"
      }
    },
    {
      "cell_type": "code",
      "source": [
        "!pip install -U gdown"
      ],
      "metadata": {
        "id": "8f6cdwbMUSzM"
      },
      "execution_count": null,
      "outputs": []
    },
    {
      "cell_type": "markdown",
      "source": [
        "**Download and Extract Data**"
      ],
      "metadata": {
        "id": "tq6p118ZX007"
      }
    },
    {
      "cell_type": "code",
      "source": [
        "!gdown https://drive.google.com/uc?id=1-HCo6R4_wI8iFhNsZrat4VlXkvJ7VSuW\n",
        "!unzip '/content/apple_coco_dataset.zip'"
      ],
      "metadata": {
        "id": "nlckxBEDUfF2"
      },
      "execution_count": null,
      "outputs": []
    },
    {
      "cell_type": "markdown",
      "source": [
        "# Training"
      ],
      "metadata": {
        "id": "rv53iiDiYOc1"
      }
    },
    {
      "cell_type": "markdown",
      "source": [
        "**Import required libraries**"
      ],
      "metadata": {
        "id": "JsWt53-zYSHw"
      }
    },
    {
      "cell_type": "code",
      "source": [
        "import detectron2\n",
        "from detectron2.utils.logger import setup_logger\n",
        "setup_logger()\n",
        "\n",
        "import numpy as np\n",
        "import os, json, cv2, random\n",
        "from google.colab.patches import cv2_imshow\n",
        "\n",
        "from detectron2 import model_zoo\n",
        "from detectron2.engine import DefaultPredictor, DefaultTrainer\n",
        "from detectron2.config import get_cfg\n",
        "from detectron2.utils.visualizer import Visualizer\n",
        "from detectron2.data import MetadataCatalog, DatasetCatalog"
      ],
      "metadata": {
        "id": "gevh2zgEYBhD"
      },
      "execution_count": 5,
      "outputs": []
    },
    {
      "cell_type": "markdown",
      "source": [
        "**Register Our Dataset**"
      ],
      "metadata": {
        "id": "lHTgyhtDYhLd"
      }
    },
    {
      "cell_type": "code",
      "source": [
        "from detectron2.data.datasets import register_coco_instances\n",
        "\n",
        "register_coco_instances(\"apple_train\", {}, \"/content/train_annotations.json\", \"/content/train/\")\n",
        "register_coco_instances(\"apple_val\", {}, \"/content/valid_annotations.json\", \"/content/valid\")\n",
        "\n",
        "MetadataCatalog.get(\"apple_train\").thing_classes = [\"apple\"]\n",
        "MetadataCatalog.get(\"apple_val\").thing_classes = [\"apple\"]"
      ],
      "metadata": {
        "id": "yOCypdrmYbD3"
      },
      "execution_count": 6,
      "outputs": []
    },
    {
      "cell_type": "markdown",
      "source": [
        "**Setup the config for the training**\n",
        "\n",
        "I use Mask R-CNN 50 FPN 3x which has good balance in speed and accuracy"
      ],
      "metadata": {
        "id": "m71z1suhZYR1"
      }
    },
    {
      "cell_type": "code",
      "source": [
        "cfg = get_cfg()\n",
        "cfg.merge_from_file(model_zoo.get_config_file(\"COCO-InstanceSegmentation/mask_rcnn_R_50_FPN_3x.yaml\"))\n",
        "cfg.DATASETS.TRAIN = (\"apple_train\",)\n",
        "cfg.DATASETS.TEST = ()\n",
        "cfg.DATALOADER.NUM_WORKERS = 2\n",
        "cfg.MODEL.WEIGHTS = model_zoo.get_checkpoint_url(\"COCO-InstanceSegmentation/mask_rcnn_R_50_FPN_3x.yaml\")\n",
        "cfg.SOLVER.IMS_PER_BATCH = 2\n",
        "cfg.SOLVER.BASE_LR = 0.0001\n",
        "cfg.SOLVER.MAX_ITER = 300\n",
        "cfg.SOLVER.STEPS = []\n",
        "cfg.MODEL.ROI_HEADS.BATCH_SIZE_PER_IMAGE = 512\n",
        "cfg.MODEL.ROI_HEADS.NUM_CLASSES = 1\n",
        "cfg.MODEL.RETINANET.NUM_CLASSES = 1\n",
        "cfg.MODEL.ROI_KEYPOINT_HEAD.NUM_KEYPOINTS = 1\n",
        "cfg.MODEL.SEM_SEG_HEAD.NUM_CLASSES = 1\n",
        "cfg.OUTPUT_DIR = \"/content/apple_train_output\"\n"
      ],
      "metadata": {
        "id": "otUCF1EvYoUZ"
      },
      "execution_count": 7,
      "outputs": []
    },
    {
      "cell_type": "code",
      "source": [
        "os.makedirs(cfg.OUTPUT_DIR, exist_ok=True)\n",
        "trainer = DefaultTrainer(cfg)\n",
        "trainer.resume_or_load(resume=False)\n",
        "trainer.train()"
      ],
      "metadata": {
        "id": "hom_zZy5ZDBz"
      },
      "execution_count": null,
      "outputs": []
    },
    {
      "cell_type": "markdown",
      "source": [
        "**make sure you download the model or move it to your own storage**"
      ],
      "metadata": {
        "id": "4aHYm8pUcHGz"
      }
    }
  ]
}